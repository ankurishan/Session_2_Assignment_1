{
  "nbformat": 4,
  "nbformat_minor": 0,
  "metadata": {
    "colab": {
      "name": "Session 2: Assignment 1.ipynb",
      "provenance": [],
      "collapsed_sections": []
    },
    "kernelspec": {
      "name": "python3",
      "display_name": "Python 3"
    }
  },
  "cells": [
    {
      "cell_type": "markdown",
      "metadata": {
        "id": "YBB2C95LGvmz",
        "colab_type": "text"
      },
      "source": [
        "# **Session 2: Assignment 1** \n"
      ]
    },
    {
      "cell_type": "markdown",
      "metadata": {
        "id": "fVZnI27QHI7c",
        "colab_type": "text"
      },
      "source": [
        "## **Task 1:**"
      ]
    },
    {
      "cell_type": "markdown",
      "metadata": {
        "id": "HcDahKpdHgXN",
        "colab_type": "text"
      },
      "source": [
        "1.1\n",
        "Write a Python Program to implement your own myreduce() function which works exactly like\n",
        "Python's built-in function reduce()"
      ]
    },
    {
      "cell_type": "code",
      "metadata": {
        "id": "iT2Ib36VHlZ8",
        "colab_type": "code",
        "outputId": "2d319dce-8ce9-4939-c2b2-814080caff06",
        "colab": {
          "base_uri": "https://localhost:8080/",
          "height": 34
        }
      },
      "source": [
        "def myreduce(Entries):\n",
        "  sums=0\n",
        "  for i in Entries:\n",
        "    sums+=i\n",
        "  return sums\n",
        "print(myreduce([1,2,3,4,5]))"
      ],
      "execution_count": 0,
      "outputs": [
        {
          "output_type": "stream",
          "text": [
            "15\n"
          ],
          "name": "stdout"
        }
      ]
    },
    {
      "cell_type": "markdown",
      "metadata": {
        "id": "ccnI23E-JBeF",
        "colab_type": "text"
      },
      "source": [
        "1.2\n",
        "Write a Python program to implement your own myfilter() function which works exactly like\n",
        "Python's built-in function filter()"
      ]
    },
    {
      "cell_type": "code",
      "metadata": {
        "id": "0YN7m1F_JIBJ",
        "colab_type": "code",
        "outputId": "f5da893a-57c5-4059-a84f-19f158875cee",
        "colab": {
          "base_uri": "https://localhost:8080/",
          "height": 34
        }
      },
      "source": [
        "def myfilter(Entries):\n",
        "  \n",
        "  lst=[]\n",
        "  for i in Entries:\n",
        "    if i %2==0:\n",
        "      lst.append(i)\n",
        "    else:\n",
        "      continue\n",
        "  return lst\n",
        "print(myfilter([1,2,3,4,5]))"
      ],
      "execution_count": 0,
      "outputs": [
        {
          "output_type": "stream",
          "text": [
            "[2, 4]\n"
          ],
          "name": "stdout"
        }
      ]
    },
    {
      "cell_type": "markdown",
      "metadata": {
        "id": "eWbI8EvE7frD",
        "colab_type": "text"
      },
      "source": [
        "2.\n",
        "Implement List comprehensions to produce the following lists.\n",
        "Write List comprehensions to produce the following Lists"
      ]
    },
    {
      "cell_type": "code",
      "metadata": {
        "id": "PWJ9DuUs7jR5",
        "colab_type": "code",
        "outputId": "4b58aeb1-07e8-4358-d998-e551300fced7",
        "colab": {
          "base_uri": "https://localhost:8080/",
          "height": 34
        }
      },
      "source": [
        "list1= 'ACADGILD'\n",
        "print(list(i for i in list1))"
      ],
      "execution_count": 0,
      "outputs": [
        {
          "output_type": "stream",
          "text": [
            "['A', 'C', 'A', 'D', 'G', 'I', 'L', 'D']\n"
          ],
          "name": "stdout"
        }
      ]
    },
    {
      "cell_type": "code",
      "metadata": {
        "id": "Uj4cZnbN9Qwt",
        "colab_type": "code",
        "outputId": "102dae23-7f0c-462d-f929-59a72e466c55",
        "colab": {
          "base_uri": "https://localhost:8080/",
          "height": 34
        }
      },
      "source": [
        "sample=['x','y','z']\n",
        "print(list(i*j for i in sample for j in range(1,5) ))\n",
        "\n"
      ],
      "execution_count": 0,
      "outputs": [
        {
          "output_type": "stream",
          "text": [
            "['x', 'xx', 'xxx', 'xxxx', 'y', 'yy', 'yyy', 'yyyy', 'z', 'zz', 'zzz', 'zzzz']\n"
          ],
          "name": "stdout"
        }
      ]
    },
    {
      "cell_type": "code",
      "metadata": {
        "id": "tqL_JAGGS1dg",
        "colab_type": "code",
        "outputId": "a406e161-4526-4def-dcf0-3395d18e191b",
        "colab": {
          "base_uri": "https://localhost:8080/",
          "height": 34
        }
      },
      "source": [
        "sample=['x','y','z']\n",
        "print(list(i*j for i in range(1,4) for j in sample ))"
      ],
      "execution_count": 0,
      "outputs": [
        {
          "output_type": "stream",
          "text": [
            "['x', 'y', 'z', 'xx', 'yy', 'zz', 'xxx', 'yyy', 'zzz']\n"
          ],
          "name": "stdout"
        }
      ]
    },
    {
      "cell_type": "code",
      "metadata": {
        "id": "hJEOqvjvTVXg",
        "colab_type": "code",
        "outputId": "039bbfa6-ce8b-4ba9-c232-4a09155f77c6",
        "colab": {
          "base_uri": "https://localhost:8080/",
          "height": 34
        }
      },
      "source": [
        "input_item=[2,3,4]\n",
        "[[i+j] for i in input_item for j in range(3)]"
      ],
      "execution_count": 0,
      "outputs": [
        {
          "output_type": "execute_result",
          "data": {
            "text/plain": [
              "[[2], [3], [4], [3], [4], [5], [4], [5], [6]]"
            ]
          },
          "metadata": {
            "tags": []
          },
          "execution_count": 26
        }
      ]
    },
    {
      "cell_type": "code",
      "metadata": {
        "id": "vF7_TfyGYfLF",
        "colab_type": "code",
        "outputId": "ad0b356f-971a-4405-9062-0705eb5a8e74",
        "colab": {
          "base_uri": "https://localhost:8080/",
          "height": 34
        }
      },
      "source": [
        "input_item=[2,3,4,5]\n",
        "[[i+j for i in input_item] for j in range(4)  ]"
      ],
      "execution_count": 0,
      "outputs": [
        {
          "output_type": "execute_result",
          "data": {
            "text/plain": [
              "[[2, 3, 4, 5], [3, 4, 5, 6], [4, 5, 6, 7], [5, 6, 7, 8]]"
            ]
          },
          "metadata": {
            "tags": []
          },
          "execution_count": 33
        }
      ]
    },
    {
      "cell_type": "code",
      "metadata": {
        "id": "DPHqbyPpe09Y",
        "colab_type": "code",
        "outputId": "ec519ea5-e542-42cf-ac05-13f0b24c08d7",
        "colab": {
          "base_uri": "https://localhost:8080/",
          "height": 34
        }
      },
      "source": [
        "input_item=[1,2,3]\n",
        "[(j,i) for i in input_item for j in range(1,4)  ]"
      ],
      "execution_count": 0,
      "outputs": [
        {
          "output_type": "execute_result",
          "data": {
            "text/plain": [
              "[(1, 1), (2, 1), (3, 1), (1, 2), (2, 2), (3, 2), (1, 3), (2, 3), (3, 3)]"
            ]
          },
          "metadata": {
            "tags": []
          },
          "execution_count": 38
        }
      ]
    },
    {
      "cell_type": "markdown",
      "metadata": {
        "id": "SLvMu4QzF5sF",
        "colab_type": "text"
      },
      "source": [
        "3.\n",
        "Implement a function longestWord() that takes a list of words and returns the longest one."
      ]
    },
    {
      "cell_type": "code",
      "metadata": {
        "id": "DgsF04zfgEhO",
        "colab_type": "code",
        "outputId": "e25be77e-5db9-43bf-8f0c-83e54585076f",
        "colab": {
          "base_uri": "https://localhost:8080/",
          "height": 51
        }
      },
      "source": [
        "def longestWord(LongestString):\n",
        "  Longest=0\n",
        "  for i in LongestString.split():\n",
        "    if len(i)>Longest:\n",
        "      Longest_word=i\n",
        "      Longest=len(i)\n",
        "  print(Longest_word)\n",
        "\n",
        "LongestString=str(input(\"Enter any sentence:\"))\n",
        "longestWord(LongestString)"
      ],
      "execution_count": 0,
      "outputs": [
        {
          "output_type": "stream",
          "text": [
            "Enter any sentence:i Love India\n",
            "India\n"
          ],
          "name": "stdout"
        }
      ]
    },
    {
      "cell_type": "markdown",
      "metadata": {
        "id": "e6F5Wi67WVUg",
        "colab_type": "text"
      },
      "source": [
        "Task 2:\n",
        "\n",
        "1.1\n",
        "Write a Python Program(with class concepts) to find the area of the triangle using the below\n",
        "formula.\n",
        "area = (s*(s-a)*(s-b)*(s-c)) ** 0.5\n",
        "Function to take the length of the sides of triangle from user should be defined in the parent\n",
        "class and function to calculate the area should be defined in subclass."
      ]
    },
    {
      "cell_type": "code",
      "metadata": {
        "id": "o3COPionKNDP",
        "colab_type": "code",
        "outputId": "6d972f7c-caf5-4229-ba43-461cceabe0e3",
        "colab": {
          "base_uri": "https://localhost:8080/",
          "height": 85
        }
      },
      "source": [
        "class sidesTriangle():\n",
        "  def __init__(self,a,b,c):\n",
        "\n",
        "    self.a=a\n",
        "    self.b=b\n",
        "    self.c=c\n",
        "\n",
        "a=float(input(\"Enter first side of the triangle: \"))\n",
        "b=float(input(\"Enter second side of the triangle: \"))\n",
        "c=float(input(\"Enter third side of the triangle: \"))\n",
        "sides=sidesTriangle(a,b,c)\n",
        "\n",
        "class calculateArea(sidesTriangle):\n",
        "\n",
        "  def __init__(self,a,b,c):\n",
        "    super().__init__(a,b,c)\n",
        "\n",
        "  def calculateAreaofTriangle(self):\n",
        "    s=(self.a+self.b+self.c)/2.0\n",
        "    areas=((s*(s-a)*(s-b)*(s-c)) ** 0.5)\n",
        "    return areas\n",
        "\n",
        "area=calculateArea(sides.a,sides.b,sides.c)\n",
        "\n",
        "print(\"Area of triangle is {}\".format(area.calculateAreaofTriangle()))"
      ],
      "execution_count": 23,
      "outputs": [
        {
          "output_type": "stream",
          "text": [
            "Enter first side of the triangle: 18\n",
            "Enter second side of the triangle: 24\n",
            "Enter third side of the triangle: 30\n",
            "Area of triangle is 216.0\n"
          ],
          "name": "stdout"
        }
      ]
    },
    {
      "cell_type": "markdown",
      "metadata": {
        "id": "nnQOnxkatKt-",
        "colab_type": "text"
      },
      "source": [
        "1.2\n",
        "Write a function filter_long_words() that takes a list of words and an integer n and returns the list\n",
        "of words that are longer than n.\n"
      ]
    },
    {
      "cell_type": "code",
      "metadata": {
        "id": "BHPfayBLht4G",
        "colab_type": "code",
        "colab": {
          "base_uri": "https://localhost:8080/",
          "height": 85
        },
        "outputId": "539a2ab4-a6f8-4750-f37a-8de1c8781800"
      },
      "source": [
        "def filter_long_words(string1,n):\n",
        "  List1=string1.split(sep=\" \")\n",
        "  List2=[]\n",
        "  for i in range(len(List1)):\n",
        "    if i<n:\n",
        "      List2.append(List1[i])\n",
        "    else:\n",
        "      break\n",
        "  return List2\n",
        "string1=input(\"Enter the list of words: \\n\")\n",
        "n=int(input(\"Enter the number you want to restrict \"))\n",
        "List2=filter_long_words(string1,n)\n",
        "print(\"The new list of string is : {}\".format(List2))\n"
      ],
      "execution_count": 34,
      "outputs": [
        {
          "output_type": "stream",
          "text": [
            "Enter the list of words: \n",
            "I love india and mother\n",
            "Enter the number you want to restrict 3\n",
            "The new list of string is : ['I', 'love', 'india']\n"
          ],
          "name": "stdout"
        }
      ]
    },
    {
      "cell_type": "markdown",
      "metadata": {
        "id": "tTBVY67wxPuW",
        "colab_type": "text"
      },
      "source": [
        "2.1\n",
        "\n",
        "Write a Python program using function concept that maps list of words into a list of integers\n",
        "representing the lengths of the corresponding words.\n",
        "\n",
        "Hint: If a list [ ab,cde,erty] is passed on to the python function output should come as [2,3,4]\n",
        "Here 2,3 and 4 are the lengths of the words in the list."
      ]
    },
    {
      "cell_type": "code",
      "metadata": {
        "id": "mtVmP-qoxR3K",
        "colab_type": "code",
        "colab": {
          "base_uri": "https://localhost:8080/",
          "height": 51
        },
        "outputId": "2e3bf480-096f-421d-f4cd-f657033ceb55"
      },
      "source": [
        "def countLength(List1):\n",
        "  List2=[]\n",
        "  List1=List1.split(sep= \" \")\n",
        "  for i in range(len(List1)):\n",
        "    List2.append(len(List1[i]))\n",
        "  return List2\n",
        "List1=input(\"Enter the string: \")\n",
        "List1=countLength(List1)\n",
        "print(\"The required list is : {}\".format(List1))"
      ],
      "execution_count": 48,
      "outputs": [
        {
          "output_type": "stream",
          "text": [
            "Enter the string: I Love India\n",
            "The required list is : [1, 4, 5]\n"
          ],
          "name": "stdout"
        }
      ]
    },
    {
      "cell_type": "markdown",
      "metadata": {
        "id": "m6P8gCVy0g79",
        "colab_type": "text"
      },
      "source": [
        "2.2\n",
        "\n",
        "Write a Python function which takes a character (i.e. a string of length 1) and returns True if it is\n",
        "a vowel, False otherwise."
      ]
    },
    {
      "cell_type": "code",
      "metadata": {
        "id": "oMfn7DAhzG8j",
        "colab_type": "code",
        "colab": {
          "base_uri": "https://localhost:8080/",
          "height": 51
        },
        "outputId": "e37ae677-f752-400c-c8cf-13678e80d0de"
      },
      "source": [
        "def checkVowel(Character):\n",
        "  switcher={\n",
        "      'a': 'Vowel',\n",
        "      'e': 'Vowel',\n",
        "      'i': 'Vowel',\n",
        "      'o': 'Vowel',\n",
        "      'u': 'Vowel'\n",
        "      }\n",
        "  return switcher.get(Character,\"Not a vowel\")\n",
        "Character=input(\"Enter any character:\" )\n",
        "checkVowel(Character)"
      ],
      "execution_count": 63,
      "outputs": [
        {
          "output_type": "stream",
          "text": [
            "Enter any character:a\n"
          ],
          "name": "stdout"
        },
        {
          "output_type": "execute_result",
          "data": {
            "text/plain": [
              "'Vowel'"
            ]
          },
          "metadata": {
            "tags": []
          },
          "execution_count": 63
        }
      ]
    },
    {
      "cell_type": "code",
      "metadata": {
        "id": "cMXHf-2P3G7C",
        "colab_type": "code",
        "colab": {}
      },
      "source": [
        ""
      ],
      "execution_count": 0,
      "outputs": []
    }
  ]
}